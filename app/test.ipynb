{
 "cells": [],
 "metadata": {
  "kernelspec": {
   "display_name": "Python 3.10.12 ('.venv': venv)",
   "language": "python",
   "name": "python3"
  },
  "language_info": {
   "codemirror_mode": {
    "name": "ipython",
    "version": 3
   },
   "file_extension": ".py",
   "mimetype": "text/x-python",
   "name": "python",
   "nbconvert_exporter": "python",
   "pygments_lexer": "ipython3",
   "version": "3.10.12"
  },
  "vscode": {
   "interpreter": {
    "hash": "8b43f8e3e1f56244cbc61d80d5ffecf1fc49c60a8a23c3e2a3036b8dceb20b35"
   }
  }
 },
 "nbformat": 4,
 "nbformat_minor": 2
}
