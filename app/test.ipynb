{
 "cells": [
  {
   "cell_type": "code",
   "execution_count": 1,
   "metadata": {},
   "outputs": [],
   "source": [
    "import geemap\n",
    "import ee\n",
    "import glob\n",
    "import os\n",
    "import pandas as pd\n",
    "\n",
    "from datetime import timedelta, datetime\n",
    "from setting.utl import last_day_of_month, monthlist, date_format_concersion\n"
   ]
  },
  {
   "cell_type": "code",
   "execution_count": 2,
   "metadata": {},
   "outputs": [],
   "source": [
    "service_account = 'fyakghoon226677@ee-hoolu.iam.gserviceaccount.com'\n",
    "credentials = ee.ServiceAccountCredentials(service_account, '/workpool/gee/ee-hoolu-0ef4b688458f.json')\n",
    "ee.Initialize(credentials)"
   ]
  },
  {
   "cell_type": "code",
   "execution_count": 12,
   "metadata": {},
   "outputs": [],
   "source": [
    "time_list =monthlist(datetime.strptime('2023-10-01', \"%Y-%m-%d\"), datetime.strptime('2023-11-01', \"%Y-%m-%d\"))"
   ]
  },
  {
   "cell_type": "code",
   "execution_count": 15,
   "metadata": {},
   "outputs": [],
   "source": [
    "states = geemap.shp_to_ee(\"\".join(glob.glob(os.path.join(\"/workpool/gee/result/user_data/9ce9ef17-5b5a-4741-ae8b-fed0162e85e0\", '*.shp'))))"
   ]
  },
  {
   "cell_type": "code",
   "execution_count": 5,
   "metadata": {},
   "outputs": [],
   "source": [
    "time_list = monthlist(datetime.strptime('2023-11-01', \"%Y-%m-%d\"), datetime.strptime('2023-11-01', \"%Y-%m-%d\"))"
   ]
  },
  {
   "cell_type": "code",
   "execution_count": 7,
   "metadata": {},
   "outputs": [
    {
     "data": {
      "text/plain": [
       "'2023/11/01'"
      ]
     },
     "execution_count": 7,
     "metadata": {},
     "output_type": "execute_result"
    }
   ],
   "source": [
    "date_format_concersion(time_list[0][0], output_format='%Y/%m/%d')"
   ]
  },
  {
   "cell_type": "code",
   "execution_count": 9,
   "metadata": {},
   "outputs": [],
   "source": [
    "time_list = monthlist(datetime.strptime('2023-10-01', \"%Y-%m-%d\"), datetime.strptime('2023-11-01', \"%Y-%m-%d\"))"
   ]
  },
  {
   "cell_type": "code",
   "execution_count": 14,
   "metadata": {},
   "outputs": [
    {
     "data": {
      "text/plain": [
       "['Date', 'Doy', 'precipitation', 'STATE']"
      ]
     },
     "execution_count": 14,
     "metadata": {},
     "output_type": "execute_result"
    }
   ],
   "source": [
    "['Date', 'Doy'] + ['precipitation']+ ['STATE']"
   ]
  },
  {
   "cell_type": "code",
   "execution_count": 39,
   "metadata": {},
   "outputs": [
    {
     "name": "stdout",
     "output_type": "stream",
     "text": [
      "Computing statistics ...\n",
      "Generating URL ...\n",
      "Downloading data from https://earthengine.googleapis.com/v1/projects/earthengine-legacy/tables/2889cd6a4eda3b8377be1ad2bafaab3c-0863e6e8e5334c644629207e4ff1baa9:getFeatures\n",
      "Please wait ...\n",
      "Data downloaded to /workpool/gee/result/user_data/69369ac5-b091-4008-ab85-4503f4b48a01/Prec.csv\n",
      "Computing statistics ...\n",
      "Generating URL ...\n",
      "Downloading data from https://earthengine.googleapis.com/v1/projects/earthengine-legacy/tables/8420357cddf51f6d8d003560545d4b3c-d17f7c446c576e1e0ab104dce7ebe67f:getFeatures\n",
      "Please wait ...\n",
      "Data downloaded to /workpool/gee/result/user_data/69369ac5-b091-4008-ab85-4503f4b48a01/Prec.csv\n",
      "Index(['Date', 'Doy', 'precipitation', 'STATE'], dtype='object')\n"
     ]
    },
    {
     "ename": "KeyError",
     "evalue": "\"['mean'] not in index\"",
     "output_type": "error",
     "traceback": [
      "\u001b[0;31m---------------------------------------------------------------------------\u001b[0m",
      "\u001b[0;31mKeyError\u001b[0m                                  Traceback (most recent call last)",
      "Cell \u001b[0;32mIn[39], line 36\u001b[0m\n\u001b[1;32m     32\u001b[0m \u001b[38;5;28mprint\u001b[39m(df\u001b[38;5;241m.\u001b[39mcolumns)\n\u001b[1;32m     34\u001b[0m select_columns \u001b[38;5;241m=\u001b[39m [\u001b[38;5;124m'\u001b[39m\u001b[38;5;124mDate\u001b[39m\u001b[38;5;124m'\u001b[39m, \u001b[38;5;124m'\u001b[39m\u001b[38;5;124mDoy\u001b[39m\u001b[38;5;124m'\u001b[39m] \u001b[38;5;241m+\u001b[39m [\u001b[38;5;124m'\u001b[39m\u001b[38;5;124mmean\u001b[39m\u001b[38;5;124m'\u001b[39m] \u001b[38;5;241m+\u001b[39m [\u001b[38;5;124m'\u001b[39m\u001b[38;5;124mSTATE\u001b[39m\u001b[38;5;124m'\u001b[39m]\n\u001b[0;32m---> 36\u001b[0m df \u001b[38;5;241m=\u001b[39m \u001b[43mdf\u001b[49m\u001b[43m[\u001b[49m\u001b[43mselect_columns\u001b[49m\u001b[43m]\u001b[49m\n\u001b[1;32m     37\u001b[0m new_columns \u001b[38;5;241m=\u001b[39m [\u001b[38;5;124m'\u001b[39m\u001b[38;5;124mDate\u001b[39m\u001b[38;5;124m'\u001b[39m, \u001b[38;5;124m'\u001b[39m\u001b[38;5;124mDoy\u001b[39m\u001b[38;5;124m'\u001b[39m] \u001b[38;5;241m+\u001b[39m [\u001b[38;5;124m'\u001b[39m\u001b[38;5;124mprecipitation\u001b[39m\u001b[38;5;124m'\u001b[39m]\u001b[38;5;241m+\u001b[39m [\u001b[38;5;124m'\u001b[39m\u001b[38;5;124mSTATE\u001b[39m\u001b[38;5;124m'\u001b[39m]\n\u001b[1;32m     38\u001b[0m df\u001b[38;5;241m.\u001b[39mcolumns \u001b[38;5;241m=\u001b[39m new_columns\n",
      "File \u001b[0;32m/workpool/gee/.venv/lib/python3.10/site-packages/pandas/core/frame.py:3464\u001b[0m, in \u001b[0;36mDataFrame.__getitem__\u001b[0;34m(self, key)\u001b[0m\n\u001b[1;32m   3462\u001b[0m     \u001b[39mif\u001b[39;00m is_iterator(key):\n\u001b[1;32m   3463\u001b[0m         key \u001b[39m=\u001b[39m \u001b[39mlist\u001b[39m(key)\n\u001b[0;32m-> 3464\u001b[0m     indexer \u001b[39m=\u001b[39m \u001b[39mself\u001b[39;49m\u001b[39m.\u001b[39;49mloc\u001b[39m.\u001b[39;49m_get_listlike_indexer(key, axis\u001b[39m=\u001b[39;49m\u001b[39m1\u001b[39;49m)[\u001b[39m1\u001b[39m]\n\u001b[1;32m   3466\u001b[0m \u001b[39m# take() does not accept boolean indexers\u001b[39;00m\n\u001b[1;32m   3467\u001b[0m \u001b[39mif\u001b[39;00m \u001b[39mgetattr\u001b[39m(indexer, \u001b[39m\"\u001b[39m\u001b[39mdtype\u001b[39m\u001b[39m\"\u001b[39m, \u001b[39mNone\u001b[39;00m) \u001b[39m==\u001b[39m \u001b[39mbool\u001b[39m:\n",
      "File \u001b[0;32m/workpool/gee/.venv/lib/python3.10/site-packages/pandas/core/indexing.py:1314\u001b[0m, in \u001b[0;36m_LocIndexer._get_listlike_indexer\u001b[0;34m(self, key, axis)\u001b[0m\n\u001b[1;32m   1311\u001b[0m \u001b[39melse\u001b[39;00m:\n\u001b[1;32m   1312\u001b[0m     keyarr, indexer, new_indexer \u001b[39m=\u001b[39m ax\u001b[39m.\u001b[39m_reindex_non_unique(keyarr)\n\u001b[0;32m-> 1314\u001b[0m \u001b[39mself\u001b[39;49m\u001b[39m.\u001b[39;49m_validate_read_indexer(keyarr, indexer, axis)\n\u001b[1;32m   1316\u001b[0m \u001b[39mif\u001b[39;00m needs_i8_conversion(ax\u001b[39m.\u001b[39mdtype) \u001b[39mor\u001b[39;00m \u001b[39misinstance\u001b[39m(\n\u001b[1;32m   1317\u001b[0m     ax, (IntervalIndex, CategoricalIndex)\n\u001b[1;32m   1318\u001b[0m ):\n\u001b[1;32m   1319\u001b[0m     \u001b[39m# For CategoricalIndex take instead of reindex to preserve dtype.\u001b[39;00m\n\u001b[1;32m   1320\u001b[0m     \u001b[39m#  For IntervalIndex this is to map integers to the Intervals they match to.\u001b[39;00m\n\u001b[1;32m   1321\u001b[0m     keyarr \u001b[39m=\u001b[39m ax\u001b[39m.\u001b[39mtake(indexer)\n",
      "File \u001b[0;32m/workpool/gee/.venv/lib/python3.10/site-packages/pandas/core/indexing.py:1377\u001b[0m, in \u001b[0;36m_LocIndexer._validate_read_indexer\u001b[0;34m(self, key, indexer, axis)\u001b[0m\n\u001b[1;32m   1374\u001b[0m     \u001b[39mraise\u001b[39;00m \u001b[39mKeyError\u001b[39;00m(\u001b[39mf\u001b[39m\u001b[39m\"\u001b[39m\u001b[39mNone of [\u001b[39m\u001b[39m{\u001b[39;00mkey\u001b[39m}\u001b[39;00m\u001b[39m] are in the [\u001b[39m\u001b[39m{\u001b[39;00maxis_name\u001b[39m}\u001b[39;00m\u001b[39m]\u001b[39m\u001b[39m\"\u001b[39m)\n\u001b[1;32m   1376\u001b[0m not_found \u001b[39m=\u001b[39m \u001b[39mlist\u001b[39m(ensure_index(key)[missing_mask\u001b[39m.\u001b[39mnonzero()[\u001b[39m0\u001b[39m]]\u001b[39m.\u001b[39munique())\n\u001b[0;32m-> 1377\u001b[0m \u001b[39mraise\u001b[39;00m \u001b[39mKeyError\u001b[39;00m(\u001b[39mf\u001b[39m\u001b[39m\"\u001b[39m\u001b[39m{\u001b[39;00mnot_found\u001b[39m}\u001b[39;00m\u001b[39m not in index\u001b[39m\u001b[39m\"\u001b[39m)\n",
      "\u001b[0;31mKeyError\u001b[0m: \"['mean'] not in index\""
     ]
    }
   ],
   "source": [
    "time_list = monthlist(datetime.strptime('2023-10-01', \"%Y-%m-%d\"), datetime.strptime('2023-11-01', \"%Y-%m-%d\"))\n",
    "states = geemap.shp_to_ee(\"\".join(glob.glob(os.path.join(\"/workpool/gee/result/user_data/69369ac5-b091-4008-ab85-4503f4b48a01\", '*.shp'))))\n",
    "\n",
    "\n",
    "for i in range(0, len(time_list)):\n",
    "        Chirsp = ee.ImageCollection('UCSB-CHG/CHIRPS/DAILY') \\\n",
    "                .filter(ee.Filter.date(datetime.strptime(time_list[i][0], \"%Y-%m-%d\"), datetime.strptime(time_list[i][1],\"%Y-%m-%d\")+ timedelta(days=1))) \\\n",
    "                .map(lambda img: img.select('precipitation')) \\\n",
    "                .map(lambda image: image.clip(states)) \\\n",
    "                .map(lambda image: image.reproject(crs='EPSG:4326'))\n",
    "\n",
    "\n",
    "        Chirsp = Chirsp.toBands()\n",
    "\n",
    "        out_dir = os.path.expanduser(\"/workpool/gee/result/user_data/69369ac5-b091-4008-ab85-4503f4b48a01\")\n",
    "        out_dem_stats = os.path.join(out_dir, 'Prec.csv')\n",
    "\n",
    "        if not os.path.exists(out_dir):\n",
    "                os.makedirs(out_dir)\n",
    "\n",
    "        geemap.zonal_stats(Chirsp, states, out_dem_stats, statistics_type='MEAN', scale=1000)\n",
    "\n",
    "        data_temp = pd.read_csv(out_dem_stats)\n",
    "\n",
    "        data = []\n",
    "\n",
    "        if time_list[i][0] == time_list[i][1]:\n",
    "                df['STATE'] = data_temp.loc[:,['STATE']]\n",
    "                df['Date'] = date_format_concersion(time_list[i][0], output_format='%Y/%m/%d')\n",
    "                df['Doy'] = datetime.strptime(time_list[i][0], '%Y-%m-%d').strftime('%j')\n",
    "\n",
    "                print(df.columns)\n",
    "\n",
    "                select_columns = ['Date', 'Doy'] + ['precipitation'] + ['STATE']\n",
    "\n",
    "                df = df[select_columns]\n",
    "                new_columns = ['Date', 'Doy'] + ['precipitation']+ ['STATE']\n",
    "                df.columns = new_columns\n",
    "\n",
    "                data.append(df)\n",
    "        else:\n",
    "                for j in range(0, len(data_temp.columns), len(['precipitation'])):\n",
    "                        date_str = data_temp.columns[j][:8]\n",
    "                        if all(m.isdigit() for m in date_str):\n",
    "                                df = data_temp.iloc[:, j:j + len(['precipitation'])]\n",
    "                                df['STATE'] = data_temp.loc[:,['STATE']]\n",
    "                                df['Date'] = date_format_concersion(date_str, output_format='%Y/%m/%d')\n",
    "                                df['Doy'] = datetime.strptime(date_str, '%Y%m%d').strftime('%j')\n",
    "                                select_columns = ['Date', 'Doy'] + [data_temp.columns[j]] + ['STATE']\n",
    "                                df = df[select_columns]\n",
    "                                new_columns = ['Date', 'Doy'] + ['precipitation']+ ['STATE']\n",
    "                                df.columns = new_columns\n",
    "\n",
    "                                data.append(df)"
   ]
  },
  {
   "cell_type": "code",
   "execution_count": null,
   "metadata": {},
   "outputs": [],
   "source": [
    "data = []\n",
    "for j in range(0, len(data_temp.columns), len(['precipitation'])):\n",
    "    date_str = data_temp.columns[j][:8]\n",
    "    if all(m.isdigit() for m in date_str):\n",
    "        df = data_temp.iloc[:, j:j + len(['precipitation'])]\n",
    "        df['STATE'] = data_temp.loc[:,['STATE']]\n",
    "        df['Date'] = date_format_concersion(date_str, output_format='%Y/%m/%d')\n",
    "        df['Doy'] = datetime.strptime(date_str, '%Y%m%d').strftime('%j')\n",
    "        select_columns = ['Date', 'Doy'] + [data_temp.columns[j]] + ['STATE']\n",
    "        df = df[select_columns]\n",
    "        new_columns = ['Date', 'Doy'] + list('precipitation') + ['STATE']\n",
    "        df.columns = new_columns\n",
    "\n",
    "        data.append(df)"
   ]
  },
  {
   "cell_type": "code",
   "execution_count": 32,
   "metadata": {},
   "outputs": [],
   "source": [
    "df = pd.read_csv('/workpool/gee/result/user_data/69369ac5-b091-4008-ab85-4503f4b48a01/Prec.csv')"
   ]
  },
  {
   "cell_type": "code",
   "execution_count": 37,
   "metadata": {},
   "outputs": [],
   "source": [
    "if time_list[1][0] == time_list[1][1]:\n",
    "    df['STATE'] = data_temp.loc[:,['STATE']]\n",
    "    df['Date'] = date_format_concersion(time_list[1][0], output_format='%Y/%m/%d')\n",
    "    df['Doy'] = datetime.strptime(time_list[1][0], '%Y-%m-%d').strftime('%j')\n",
    "\n",
    "    select_columns = ['Date', 'Doy'] + [item.lower() for item in ['MEAN']] + ['STATE']\n",
    "\n",
    "    df = df[select_columns]\n",
    "    new_columns = ['Date', 'Doy'] + ['precipitation']+ ['STATE']\n",
    "    df.columns = new_columns"
   ]
  },
  {
   "cell_type": "code",
   "execution_count": null,
   "metadata": {},
   "outputs": [],
   "source": [
    "import numpy as np\n",
    "from sklearn.cluster import KMeans\n",
    "import pickle\n",
    "\n",
    "# 生成一些示例資料\n",
    "data = np.random.rand(100, 2)  # 假設有100個樣本，每個樣本有兩個特徵\n",
    "\n",
    "# 初始化KMeans模型，這裡假設要將資料分為3類\n",
    "kmeans = KMeans(n_clusters=3)\n",
    "kmeans.fit(data)\n",
    "\n",
    "# 儲存模型為pickle檔案\n",
    "with open('kmeans_model.pkl', 'wb') as f:\n",
    "    pickle.dump(kmeans, f)\n",
    "\n",
    "# 生成預測資料\n",
    "new_data = np.random.rand(10, 2)  # 假設有10個待預測的樣本，每個樣本有兩個特徵\n",
    "\n",
    "# 載入模型\n",
    "with open('kmeans_model.pkl', 'rb') as f:\n",
    "    loaded_kmeans = pickle.load(f)\n",
    "\n",
    "# 進行預測\n",
    "predictions = loaded_kmeans.predict(new_data)\n",
    "\n",
    "print(\"預測結果:\", predictions)"
   ]
  }
 ],
 "metadata": {
  "kernelspec": {
   "display_name": "Python 3.10.12 ('.venv': venv)",
   "language": "python",
   "name": "python3"
  },
  "language_info": {
   "codemirror_mode": {
    "name": "ipython",
    "version": 3
   },
   "file_extension": ".py",
   "mimetype": "text/x-python",
   "name": "python",
   "nbconvert_exporter": "python",
   "pygments_lexer": "ipython3",
   "version": "3.10.12"
  },
  "vscode": {
   "interpreter": {
    "hash": "8b43f8e3e1f56244cbc61d80d5ffecf1fc49c60a8a23c3e2a3036b8dceb20b35"
   }
  }
 },
 "nbformat": 4,
 "nbformat_minor": 2
}
